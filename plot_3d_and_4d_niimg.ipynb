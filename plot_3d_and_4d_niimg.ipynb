{
  "nbformat_minor": 0, 
  "nbformat": 4, 
  "cells": [
    {
      "execution_count": null, 
      "cell_type": "code", 
      "source": [
        "%matplotlib inline"
      ], 
      "outputs": [], 
      "metadata": {
        "collapsed": false
      }
    }, 
    {
      "source": [
        "\n3D and 4D niimgs: handling and visualizing\n==========================================\n\nHere we discover how to work with 3D and 4D niimgs.\n\n"
      ], 
      "cell_type": "markdown", 
      "metadata": {}
    }, 
    {
      "source": [
        "Downloading tutorial datasets from Internet\n--------------------------------------------\n\nNilearn comes with functions that download public data from Internet\n\nLet's first check where the data is downloaded on our disk:\n\n"
      ], 
      "cell_type": "markdown", 
      "metadata": {}
    }, 
    {
      "execution_count": null, 
      "cell_type": "code", 
      "source": [
        "from nilearn import datasets\nprint('Datasets are stored in: %r' % datasets.get_data_dirs())"
      ], 
      "outputs": [], 
      "metadata": {
        "collapsed": false
      }
    }, 
    {
      "source": [
        "Let's now retrieve a motor contrast from a localizer experiment\n\n"
      ], 
      "cell_type": "markdown", 
      "metadata": {}
    }, 
    {
      "execution_count": null, 
      "cell_type": "code", 
      "source": [
        "tmap_filenames = datasets.fetch_localizer_button_task()['tmaps']\nprint(tmap_filenames)"
      ], 
      "outputs": [], 
      "metadata": {
        "collapsed": false
      }
    }, 
    {
      "source": [
        "tmap_filenames is a list of filenames. We need to take the first one\n\n"
      ], 
      "cell_type": "markdown", 
      "metadata": {}
    }, 
    {
      "execution_count": null, 
      "cell_type": "code", 
      "source": [
        "tmap_filename = tmap_filenames[0]"
      ], 
      "outputs": [], 
      "metadata": {
        "collapsed": false
      }
    }, 
    {
      "source": [
        "Visualizing a 3D file\n----------------------\n\nThe file contains a 3D volume, we can easily visualize it as a\nstatistical map:\n\n"
      ], 
      "cell_type": "markdown", 
      "metadata": {}
    }, 
    {
      "execution_count": null, 
      "cell_type": "code", 
      "source": [
        "from nilearn import plotting\nplotting.plot_stat_map(tmap_filename)"
      ], 
      "outputs": [], 
      "metadata": {
        "collapsed": false
      }
    }, 
    {
      "source": [
        "Visualizing works better with a threshold\n\n"
      ], 
      "cell_type": "markdown", 
      "metadata": {}
    }, 
    {
      "execution_count": null, 
      "cell_type": "code", 
      "source": [
        "plotting.plot_stat_map(tmap_filename, threshold=3)"
      ], 
      "outputs": [], 
      "metadata": {
        "collapsed": false
      }
    }, 
    {
      "source": [
        "Visualizing one volume in a 4D file\n-----------------------------------\n\nWe can download resting-state networks from the Smith 2009 study on\ncorrespondance between rest and task\n\n"
      ], 
      "cell_type": "markdown", 
      "metadata": {}
    }, 
    {
      "execution_count": null, 
      "cell_type": "code", 
      "source": [
        "rsn = datasets.fetch_atlas_smith_2009()['rsn10']\nprint(rsn)"
      ], 
      "outputs": [], 
      "metadata": {
        "collapsed": false
      }
    }, 
    {
      "source": [
        "It is a 4D nifti file. We load it into the memory to print its\nshape.\n\n"
      ], 
      "cell_type": "markdown", 
      "metadata": {}
    }, 
    {
      "execution_count": null, 
      "cell_type": "code", 
      "source": [
        "from nilearn import image\nprint(image.load_img(rsn).shape)"
      ], 
      "outputs": [], 
      "metadata": {
        "collapsed": false
      }
    }, 
    {
      "source": [
        "We can retrieve the first volume (note that Python indexing starts at 0):\n\n"
      ], 
      "cell_type": "markdown", 
      "metadata": {}
    }, 
    {
      "execution_count": null, 
      "cell_type": "code", 
      "source": [
        "first_rsn = image.index_img(rsn, 0)\nprint(first_rsn.shape)"
      ], 
      "outputs": [], 
      "metadata": {
        "collapsed": false
      }
    }, 
    {
      "source": [
        "first_rsn is a 3D image.\n\nWe can then plot it\n\n"
      ], 
      "cell_type": "markdown", 
      "metadata": {}
    }, 
    {
      "execution_count": null, 
      "cell_type": "code", 
      "source": [
        "plotting.plot_stat_map(first_rsn)"
      ], 
      "outputs": [], 
      "metadata": {
        "collapsed": false
      }
    }, 
    {
      "source": [
        "Looping on all volumes in a 4D file\n-----------------------------------\n\nIf we want to plot all the volumes in this 4D file, we can use iter_img\nto loop on them.\n\nThen we give a few arguments to plot_stat_map in order to have a more\ncompact display.\n\n"
      ], 
      "cell_type": "markdown", 
      "metadata": {}
    }, 
    {
      "execution_count": null, 
      "cell_type": "code", 
      "source": [
        "for img in image.iter_img(rsn):\n    # img is now an in-memory 3D img\n    plotting.plot_stat_map(img, threshold=3, display_mode=\"z\", cut_coords=1,\n                           colorbar=False)"
      ], 
      "outputs": [], 
      "metadata": {
        "collapsed": false
      }
    }, 
    {
      "source": [
        "plotting.show is useful to force the display of figures when running\noutside IPython\n\n"
      ], 
      "cell_type": "markdown", 
      "metadata": {}
    }, 
    {
      "execution_count": null, 
      "cell_type": "code", 
      "source": [
        "plotting.show()"
      ], 
      "outputs": [], 
      "metadata": {
        "collapsed": false
      }
    }, 
    {
      "source": [
        "|\n\n______\n\nTo recap, neuroimaging images (niimgs as we call them) come in\ndifferent flavors:\n\n* 3D images, containing only one brain volume\n* 4D images, containing multiple brain volumes.\n\nMore details about the input formats in nilearn for 3D and 4D images is\ngiven in the documentation section: `loading_data`.\n\nFunctions accept either 3D or 4D images, and we need to use on the one\nhand :func:`nilearn.image.index_img` or :func:`nilearn.image.iter_img`\nto break down 4D images into 3D images, and on the other hand\n:func:`nilearn.image.concat_imgs` to group a list of 3D images into a 4D\nimage.\n\n"
      ], 
      "cell_type": "markdown", 
      "metadata": {}
    }
  ], 
  "metadata": {
    "kernelspec": {
      "display_name": "Python 2", 
      "name": "python2", 
      "language": "python"
    }, 
    "language_info": {
      "mimetype": "text/x-python", 
      "nbconvert_exporter": "python", 
      "name": "python", 
      "file_extension": ".py", 
      "version": "2.7.6", 
      "pygments_lexer": "ipython2", 
      "codemirror_mode": {
        "version": 2, 
        "name": "ipython"
      }
    }
  }
}