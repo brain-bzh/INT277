{
 "cells": [
  {
   "cell_type": "markdown",
   "metadata": {},
   "source": [
    "Getting Started with Conda / python / Jupyter Notebook environment \n",
    "--"
   ]
  },
  {
   "cell_type": "markdown",
   "metadata": {},
   "source": [
    "Preamble\n",
    "--\n",
    "Choose a working directory (IMPORTANT)\n",
    "\n",
    "Check how much space you have in your network home dir (/homes/yourlogin). You have a 7 Go quota, so this should be more than enough. It is highly recommended to work there, as this is backuped and saved daily. \n",
    "If you don't have enough space there, FREE SOME SPACE (recommended), or alternatively you can create a folder under /users/local/ (but data is not guaranteed to stay there). "
   ]
  },
  {
   "cell_type": "markdown",
   "metadata": {},
   "source": [
    "Checking out the git repository of the course\n",
    "--\n",
    "\n",
    "Change dir to your working directory and type \n",
    "\n",
    "git clone https://github.com/brain-bzh/INT277.git\n",
    "\n",
    "This will create a INT277 folder containing Jupyter Notebooks to start the projects."
   ]
  },
  {
   "cell_type": "markdown",
   "metadata": {},
   "source": [
    "Miniconda installation\n",
    "--\n",
    "1. Open a terminal\n",
    "2. go to the chosen working directory\n",
    "3. wget https://repo.continuum.io/miniconda/Miniconda2-latest-Linux-x86_64.sh\n",
    "4. bash Miniconda2-latest-Linux-x86_64.sh\n",
    "5. Review license agreement, press ENTER. Press q to exit the license agreement... type \"yes\", then change installation dir (if necessary)"
   ]
  },
  {
   "cell_type": "markdown",
   "metadata": {},
   "source": [
    "Virtual environements\n",
    "--\n",
    "\n",
    "We will use a virtual environment in Conda, which makes it easier to install new packages without admin priviledges. \n",
    "An environment has been prepared with all necesary packages in the file [my_env.yml](here). \n",
    "\n",
    "Import environment file with the following command\n",
    "\n",
    "conda env create -f my_env.yml\n",
    "\n",
    "*If this step fails* (eg if you are using your own computer, you might have a different configuration) - see the link to conda environment below to create a new environment, and install these packages using pip : jupyter, nilearn, sk-learn, matplotlib, pandas\n",
    "\n",
    "You can now list the available environements by typing : \n",
    "\n",
    "conda env list\n",
    "\n",
    "You should see the newly created environment \"my_env\". Activate it using : \n",
    "\n",
    "source activate my_env\n",
    "\n",
    "You will see (my_env) at the beginning of your terminal, indicating you are now working under the virtual environment. \n",
    "\n",
    "To deactivate the current environemnt, just type : \n",
    "\n",
    "source deactivate \n",
    "\n",
    "More on conda environments [here](http://conda.pydata.org/docs/using/envs.html)."
   ]
  },
  {
   "cell_type": "markdown",
   "metadata": {},
   "source": [
    "Installing new packages using PIP\n",
    "--\n",
    "\n",
    "When the environment is activated, install new packages using pip. For example :  \n",
    "\n",
    "pip install jupyter \n",
    "\n",
    "To see all packages currently available under an environment, type : \n",
    "\n",
    "conda list "
   ]
  },
  {
   "cell_type": "markdown",
   "metadata": {},
   "source": [
    "For the projects, we will need the following packages : \n",
    "- jupyter \n",
    "- matplotlib\n",
    "- Pandas\n",
    "- Nilearn\n",
    "- sklearn\n",
    "- nibabel\n",
    "- dipy (for projects 5 and 6)"
   ]
  },
  {
   "cell_type": "code",
   "execution_count": null,
   "metadata": {
    "collapsed": true
   },
   "outputs": [],
   "source": []
  }
 ],
 "metadata": {
  "kernelspec": {
   "display_name": "Python 2",
   "language": "python",
   "name": "python2"
  },
  "language_info": {
   "codemirror_mode": {
    "name": "ipython",
    "version": 2
   },
   "file_extension": ".py",
   "mimetype": "text/x-python",
   "name": "python",
   "nbconvert_exporter": "python",
   "pygments_lexer": "ipython2",
   "version": "2.7.10"
  }
 },
 "nbformat": 4,
 "nbformat_minor": 0
}
