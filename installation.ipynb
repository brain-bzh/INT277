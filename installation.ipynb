{
 "cells": [
  {
   "cell_type": "markdown",
   "metadata": {},
   "source": [
    "Installation de l'environnement Jupyter Notebook Python"
   ]
  },
  {
   "cell_type": "markdown",
   "metadata": {},
   "source": [
    "Choose a working directory (IMPORTANT)\n",
    "\n",
    "Check how much space you have in your network home dir (/homes/yourlogin). You have a 7 Go quota, so this should be more than enough. It is highly recommended to work there, as this is backuped and saved daily. \n",
    "If you don't have enough space there, you can create a folder under /users/local/ "
   ]
  },
  {
   "cell_type": "markdown",
   "metadata": {},
   "source": [
    "Miniconda installation: \n",
    "1. Open a terminal\n",
    "2. go to the chosen working directory\n",
    "2. wget https://repo.continuum.io/miniconda/Miniconda2-latest-Linux-x86_64.sh\n",
    "3. bash Miniconda2-latest-Linux-x86_64.sh\n",
    "\n",
    "4. Review license agreement, press ENTER. Press q to exit the license agreement... type \"yes\", then change installation dir (if necessary)\n",
    "\n",
    "5. "
   ]
  },
  {
   "cell_type": "code",
   "execution_count": null,
   "metadata": {
    "collapsed": true
   },
   "outputs": [],
   "source": []
  }
 ],
 "metadata": {
  "kernelspec": {
   "display_name": "Python 2",
   "language": "python",
   "name": "python2"
  },
  "language_info": {
   "codemirror_mode": {
    "name": "ipython",
    "version": 2
   },
   "file_extension": ".py",
   "mimetype": "text/x-python",
   "name": "python",
   "nbconvert_exporter": "python",
   "pygments_lexer": "ipython2",
   "version": "2.7.12"
  }
 },
 "nbformat": 4,
 "nbformat_minor": 0
}
