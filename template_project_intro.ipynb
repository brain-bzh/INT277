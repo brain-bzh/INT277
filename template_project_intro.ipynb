{
 "cells": [
  {
   "cell_type": "markdown",
   "metadata": {},
   "source": [
    "Intersemestre Neuroimagerie IMT Atlantique - 2017\n",
    "--\n",
    "\n",
    "Sujet du mini projet : \n",
    "\n",
    "XXXXX\n",
    "\n",
    "Liste de tous les sujets : \n",
    "\n",
    "\n",
    "• Impact du vieillissement sur la matière grise, en utilisant l’IRM structurelle et l’apprentissage machine. (Farrugia)\n",
    "\n",
    "• Recherche de bio-marqueurs de l’autisme à partir de la connectivité mesurée par l’IRM fonctionnelle. (Farrugia)\n",
    "\n",
    "• Décodage de l’activité cérébrale évoquée lors d’une expérience l’IRM fonctionnelle (stimulations auditives et visuelles). (Farrugia)\n",
    "\n",
    "• Reconstruction de l’image vue par un sujet à partir des signaux d’IRM fonctionnelle. (Farrugia)\n",
    "\n",
    "• Reconstruction de la connectivité cérébrale de la matière blanche (tractographie) par IRM de diffusion. (Rousseau)\n",
    "\n",
    "• Décomposition du cortex en sous-régions en utilisant l’IRM de diffusion et l’IRM fonctionnelle. (Farrugia + Rousseau) \n",
    "\n"
   ]
  },
  {
   "cell_type": "markdown",
   "metadata": {},
   "source": [
    "Articles à lire\n",
    "--\n",
    "\n",
    "REF1 \n",
    "REF2 \n",
    "REF3 "
   ]
  },
  {
   "cell_type": "markdown",
   "metadata": {},
   "source": [
    "Tutorials obligatoires (tout les projets)\n",
    "--\n",
    "[Cette page](https://www.datacamp.com/community/tutorials/tutorial-jupyter-notebook##UseJupyter) fournit un bon tutorial d'utilisation de Jupyter Notebook. \n",
    "\n",
    "Ce [notebook](http://nbviewer.jupyter.org/github/jrjohansson/scientific-python-lectures/blob/master/Lecture-4-Matplotlib.ipynb) décrit l'utilisation de Matplotlib, pour tracer des graphiques. \n",
    "\n",
    "[Numpy Tutorial](https://github.com/jrjohansson/scientific-python-lectures/blob/master/Lecture-2-Numpy.ipynb) , pour la manipulation et calculs sur des matrices. \n",
    "\n",
    "\n",
    "Visualisation de données de Neuroimagerie : \n",
    "\n",
    "Voir [tutorial plotting Nilearn 1](plot_nilearn_101.ipynb), et [tuto plot Nilearn 2](plot_3d_and_4d_niimg.ipynb). \n",
    "\n",
    "\n",
    "Tutoriaux obligatoires (spécifique au projet)\n",
    "--\n",
    "\n",
    "ICI\n",
    "\n",
    "\n",
    "\n",
    "Tutoriaux optionnels\n",
    "--\n",
    "[SciPy Tutorial](https://github.com/jrjohansson/scientific-python-lectures/blob/master/Lecture-3-Scipy.ipynb), algèbre linéaire et traitement de signal. \n",
    "\n",
    "\n",
    "\n"
   ]
  },
  {
   "cell_type": "code",
   "execution_count": null,
   "metadata": {
    "collapsed": true
   },
   "outputs": [],
   "source": []
  }
 ],
 "metadata": {
  "kernelspec": {
   "display_name": "Python 2",
   "language": "python",
   "name": "python2"
  },
  "language_info": {
   "codemirror_mode": {
    "name": "ipython",
    "version": 2
   },
   "file_extension": ".py",
   "mimetype": "text/x-python",
   "name": "python",
   "nbconvert_exporter": "python",
   "pygments_lexer": "ipython2",
   "version": "2.7.12"
  }
 },
 "nbformat": 4,
 "nbformat_minor": 0
}
