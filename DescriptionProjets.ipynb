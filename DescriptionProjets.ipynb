{
 "cells": [
  {
   "cell_type": "markdown",
   "metadata": {},
   "source": [
    "Intersemestre Neuroimagerie IMT Atlantique - 2017 - Résumé des projets proposés\n",
    "--\n",
    "\n",
    "\n",
    "Impact du vieillissement sur la matière grise, en utilisant l’IRM structurelle et l’apprentissage machine. (Farrugia)\n",
    "--\n",
    "\n",
    "Dataset : OASIS \n",
    "\n",
    "http://www.oasis-brains.org/\n",
    "\n",
    "Ce dataset de grande taille (plus de 400 sujets) permet d'étudier les variations de la structure de la matière grise par la technique dite de \"Voxel Based Morphometry\". Le dataset dispose de sujets de tout ages, ainsi que des scores sur la démence. \n",
    "\n",
    "Description complète [ici](http://www.oasis-brains.org/pdf/oasis_jcogneuro.pdf)\n",
    "\n",
    "Plusieurs projets sont possibles à partir de ce dataset : impact du vieillissement, impact de la démence, de la maladie d'Alzheimer. "
   ]
  },
  {
   "cell_type": "markdown",
   "metadata": {},
   "source": [
    "Recherche de bio-marqueurs du spectre des troubles autistiques à partir de la connectivité mesurée par l’IRM fonctionnelle. (Farrugia)\n",
    "--\n",
    "\n",
    "Dataset : Autism Brain Imaging Data Exchange (ABIDE) \n",
    "\n",
    "http://journal.frontiersin.org/article/10.3389/fnhum.2013.00599/full\n",
    "\n",
    "On trouve dans ce dataset des données de connectivité cérébrale en utilisant l'IRM fonctionnelle au repos, ainsi qu'une description des patients utilisant de nombreux critères couvrant le spectre des troubles autistiques. "
   ]
  },
  {
   "cell_type": "markdown",
   "metadata": {},
   "source": [
    "Décodage de l’activité cérébrale évoquée lors d’une expérience l’IRM fonctionnelle (stimulations visuelles). (Farrugia)\n",
    "--\n",
    "\n",
    "Dataset : Haxby \n",
    "\n",
    "Haxby, J., Gobbini, M., Furey, M., Ishai, A., Schouten, J., and Pietrini, P. (2001). Distributed and overlapping representations of faces and objects in ventral temporal cortex. Science 293, 2425-2430.\n",
    "\n",
    "L'objectif de ce projet est d'appliquer des méthodes de l'apprentissage machine afin de classifier l'activité neurale en fonction des catégories d'objets. "
   ]
  },
  {
   "cell_type": "markdown",
   "metadata": {},
   "source": [
    "Reconstruction de l’image vue par un sujet à partir des signaux d’IRM fonctionnelle. (Farrugia)\n",
    "--\n",
    "\n",
    "Dataset : Miyawaki (publication [ici](http://www.cell.com/neuron/abstract/S0896-6273%2808%2900958-6) ) "
   ]
  },
  {
   "cell_type": "markdown",
   "metadata": {},
   "source": [
    "Lien entre le Connectome et la Schizophrénie en utilisant l'IRM fonctionnelle\n",
    "--\n",
    "\n",
    "Dataset : [COBRE](https://figshare.com/articles/COBRE_preprocessed_with_NIAK_0_12_4/1160600)\n",
    "\n",
    "\n"
   ]
  },
  {
   "cell_type": "markdown",
   "metadata": {},
   "source": [
    "Reconstruction de la connectivité cérébrale de la matière blanche (tractographie) par IRM de diffusion. (Rousseau)\n",
    "--\n",
    "\n",
    "\n"
   ]
  },
  {
   "cell_type": "markdown",
   "metadata": {},
   "source": [
    "Décomposition du cortex en sous-régions en utilisant l’IRM de diffusion et l’IRM fonctionnelle. (Farrugia + Rousseau) \n",
    "--\n",
    "\n",
    "\n"
   ]
  },
  {
   "cell_type": "code",
   "execution_count": null,
   "metadata": {
    "collapsed": true
   },
   "outputs": [],
   "source": []
  }
 ],
 "metadata": {
  "kernelspec": {
   "display_name": "Python 2",
   "language": "python",
   "name": "python2"
  },
  "language_info": {
   "codemirror_mode": {
    "name": "ipython",
    "version": 2
   },
   "file_extension": ".py",
   "mimetype": "text/x-python",
   "name": "python",
   "nbconvert_exporter": "python",
   "pygments_lexer": "ipython2",
   "version": "2.7.10"
  }
 },
 "nbformat": 4,
 "nbformat_minor": 0
}
